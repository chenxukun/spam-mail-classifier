{
 "cells": [
  {
   "cell_type": "code",
   "execution_count": 1,
   "metadata": {
    "collapsed": false
   },
   "outputs": [
    {
     "name": "stderr",
     "output_type": "stream",
     "text": [
      "Using TensorFlow backend.\n"
     ]
    }
   ],
   "source": [
    "import email.parser\n",
    "import os, sys, stat\n",
    "import shutil\n",
    "import pandas as pd\n",
    "from sklearn.utils import shuffle\n",
    "import numpy as np\n",
    "import nltk\n",
    "\n",
    "import keras\n",
    "from keras.models import Sequential\n",
    "from keras.preprocessing import sequence\n",
    "from keras.layers import Dense, Embedding, Flatten, Input\n",
    "from keras.layers import LSTM,Bidirectional,Reshape, add, concatenate, Activation, Conv1D, BatchNormalization, Dropout, MaxPooling1D\n",
    "from collections import Counter\n",
    "from keras_tqdm import TQDMNotebookCallback\n",
    "from keras.models import Model\n",
    "\n",
    "from bs4 import BeautifulSoup"
   ]
  },
  {
   "cell_type": "code",
   "execution_count": 6,
   "metadata": {
    "collapsed": false
   },
   "outputs": [],
   "source": [
    "def ExtractSubPayload (filename):\n",
    "    global count\n",
    "    global afterEleminateCount\n",
    "    ''' Extract the subject and payload from the .eml file.\n",
    "    \n",
    "    '''\n",
    "    if not os.path.exists(filename): # dest path doesnot exist\n",
    "        print (\"ERROR: input file does not exist:\", filename)\n",
    "        os.exit(1)\n",
    "    fp = open(filename)\n",
    "    count+=1\n",
    "    try:\n",
    "        msg = email.message_from_file(fp)\n",
    "        payload = msg.get_payload()\n",
    "        if type(payload) == type(list()) :\n",
    "            soup = BeautifulSoup(payload[0]) # only use the first part of payload\n",
    "            txt = soup.get_text()\n",
    "            txt = ' '.join(txt.split())\n",
    "            i = txt.find(\"Content-Transfer-Encoding\")\n",
    "            payload = txt[i + len(\"Content-Transfer-Encoding\"):].split(maxsplit=2)[2]\n",
    "        else:\n",
    "            soup = BeautifulSoup(payload)\n",
    "            txt = soup.get_text()\n",
    "            txt = ' '.join(txt.split())\n",
    "            i = txt.find(\"Content-Transfer-Encoding\")\n",
    "            payload = txt[i + len(\"Content-Transfer-Encoding\"):].split(maxsplit=2)[2]\n",
    "        sub = msg.get('subject')\n",
    "        sub = str(sub)\n",
    "        if type(payload) != type('') :\n",
    "            payload = str(payload)\n",
    "\n",
    "        afterEleminateCount+=1;\n",
    "        return sub + payload\n",
    "    except Exception as e:\n",
    "        #print(fp)\n",
    "        #print (count)\n",
    "        removedList.append(count)"
   ]
  },
  {
   "cell_type": "code",
   "execution_count": 7,
   "metadata": {
    "collapsed": false
   },
   "outputs": [],
   "source": [
    "def ExtractBodyFromDir ( srcdir, dstdir ):\n",
    "    global dataX\n",
    "    global raw_text\n",
    "    '''Extract the body information from all .eml files in the srcdir and \n",
    "    \n",
    "    save the file to the dstdir with the same name.'''\n",
    "    #if not os.path.exists(dstdir): # dest path doesnot exist\n",
    "     #   os.makedirs(dstdir)  \n",
    "    files = os.listdir(srcdir)\n",
    "    files = sorted(files)\n",
    "    for file in files:\n",
    "        srcpath = os.path.join(srcdir, file)\n",
    "        dstpath = os.path.join(dstdir, file)\n",
    "        src_info = os.stat(srcpath)\n",
    "        if stat.S_ISDIR(src_info.st_mode): # for subfolders, recurse\n",
    "            ExtractBodyFromDir(srcpath, dstpath)\n",
    "        else:  # copy the file\n",
    "            body = ExtractSubPayload (srcpath)\n",
    "            if body !=None:\n",
    "                #dstfile = open(dstpath, 'w')\n",
    "                #dstfile.write(body)\n",
    "                #dstfile.close()\n",
    "                dataX.append(body)\n",
    "                raw_text += body"
   ]
  },
  {
   "cell_type": "code",
   "execution_count": 122,
   "metadata": {
    "collapsed": false
   },
   "outputs": [
    {
     "name": "stderr",
     "output_type": "stream",
     "text": [
      "/home/chenxukun/anaconda3/lib/python3.6/site-packages/bs4/__init__.py:181: UserWarning: No parser was explicitly specified, so I'm using the best available HTML parser for this system (\"lxml\"). This usually isn't a problem, but if you run this code on another system, or in a different virtual environment, it may use a different parser and behave differently.\n",
      "\n",
      "The code that caused this warning is on line 193 of the file /home/chenxukun/anaconda3/lib/python3.6/runpy.py. To get rid of this warning, change code that looks like this:\n",
      "\n",
      " BeautifulSoup([your markup])\n",
      "\n",
      "to this:\n",
      "\n",
      " BeautifulSoup([your markup], \"lxml\")\n",
      "\n",
      "  markup_type=markup_type))\n",
      "/home/chenxukun/anaconda3/lib/python3.6/site-packages/bs4/__init__.py:282: UserWarning: \"http://www.post-gazette.com/columnists/20020905brian5.asp\n",
      "\n",
      "\n",
      "\n",
      "\" looks like a URL. Beautiful Soup is not an HTTP client. You should probably use an HTTP client like requests to get the document behind the URL, and feed that document to Beautiful Soup.\n",
      "  ' that document to Beautiful Soup.' % decoded_markup\n"
     ]
    }
   ],
   "source": [
    "count=-1\n",
    "removedList=[]\n",
    "afterEleminateCount=0\n",
    "dataX = []\n",
    "raw_text = \"\"\n",
    "\n",
    "srcdir = \"./TRAINING/\"\n",
    "\n",
    "if not os.path.exists(srcdir):\n",
    "    print ('The source directory %s does not exist, exit...' % (srcdir))\n",
    "    sys.exit()\n",
    "\n",
    "dstdir = \"./Output\"\n",
    "if not os.path.exists(dstdir):\n",
    "    print ('The destination directory is newly created.')\n",
    "    os.makedirs(dstdir)\n",
    "\n",
    "ExtractBodyFromDir ( srcdir, dstdir ) \n"
   ]
  },
  {
   "cell_type": "code",
   "execution_count": 123,
   "metadata": {
    "collapsed": false
   },
   "outputs": [
    {
     "name": "stdout",
     "output_type": "stream",
     "text": [
      "['\\t', '\\n', ' ', '!', '\"', '#', '$', '%', '&', \"'\", '(', ')', '*', '+', ',', '-', '.', '/', '0', '1', '2', '3', '4', '5', '6', '7', '8', '9', ':', ';', '<', '=', '>', '?', '@', '[', '\\\\', ']', '^', '_', '`', 'a', 'b', 'c', 'd', 'e', 'f', 'g', 'h', 'i', 'j', 'k', 'l', 'm', 'n', 'o', 'p', 'q', 'r', 's', 't', 'u', 'v', 'w', 'x', 'y', 'z', '{', '|', '}', '~', '\\x92', '\\x93', '\\x94', '\\x95', '\\x97', '\\x99', '£', '©', '«', '\\xad', '®', '°', '²', '·', '¹', '»', 'è', 'é', 'ó', 'ö', 'а', 'б', 'в', 'д', 'е', 'ж', 'и', 'й', 'к', 'м', 'н', 'о', 'п', 'р', 'с', 'т', 'у', 'ш', 'щ', 'я', 'ё', 'ב', 'ג', 'ד', 'ו', 'י', 'ם', 'ע', 'ר', 'ת', '\\u200f', '‑', '–', '—', '‘', '’', '“', '”', '•', '…', '™', '→', '≡', '≥', '─', '│', '┌', '┐', '└', '┘', '修', '木', '青', '�']\n",
      "['\\t', '\\n', ' ', '!', '\"', '#', '$', '%', '&', \"'\", '(', ')', '*', '+', ',', '-', '.', '/', '0', '1', '2', '3', '4', '5', '6', '7', '8', '9', ':', ';', '<', '=', '>', '?', '@', '[', '\\\\', ']', '^', '_', '`', 'a', 'b', 'c', 'd', 'e', 'f', 'g', 'h', 'i', 'j', 'k', 'l', 'm', 'n', 'o', 'p', 'q', 'r', 's', 't', 'u', 'v', 'w', 'x', 'y', 'z', '{', '|', '}', '~', 'UNK']\n",
      "Total Characters:  5869871\n",
      "Total Unique chars:  72\n"
     ]
    }
   ],
   "source": [
    "raw_text = raw_text.lower()\n",
    "# create mapping of unique chars to integers\n",
    "chars = sorted(list(set(raw_text)))\n",
    "\n",
    "\n",
    "print (chars)\n",
    "chars = chars[:71]\n",
    "chars.append('UNK')\n",
    "char_to_int = dict((c, i) for i, c in enumerate(chars))\n",
    "int_to_char = dict((i, c) for i, c in enumerate(chars))\n",
    "print (chars)\n",
    "# summarize the loaded data\n",
    "n_chars = len(raw_text)\n",
    "n_vocab = len(chars)\n",
    "print(\"Total Characters: \", n_chars)\n",
    "print(\"Total Unique chars: \", n_vocab)"
   ]
  },
  {
   "cell_type": "code",
   "execution_count": 124,
   "metadata": {
    "collapsed": false
   },
   "outputs": [],
   "source": [
    "f = open('SPAMTrain.label', 'r')\n",
    "x = f.readlines()\n",
    "dataYdebug = [i for j, i in enumerate(x) if j not in removedList]\n",
    "test = \"\".join(dataYdebug )\n",
    "dstfile = open(\"processedlabel\", 'w')\n",
    "dstfile.write(test)\n",
    "dstfile.close()\n",
    "dataY = list(map(lambda x:x.split()[0], dataYdebug))\n",
    "#dataY"
   ]
  },
  {
   "cell_type": "code",
   "execution_count": 125,
   "metadata": {
    "collapsed": false
   },
   "outputs": [
    {
     "name": "stdout",
     "output_type": "stream",
     "text": [
      "3429\n",
      "0.7223680373286673\n"
     ]
    }
   ],
   "source": [
    "print(len(dataY))\n",
    "print(dataY.count('1')/len(dataY))"
   ]
  },
  {
   "cell_type": "code",
   "execution_count": 126,
   "metadata": {
    "collapsed": false
   },
   "outputs": [],
   "source": [
    "maxLen = 300\n",
    "lensLst = []\n",
    "for x in range(0,len(dataX)):\n",
    "    dataX[x] = dataX[x].lower()\n",
    "    dataX[x] = [s if s in char_to_int.keys() else \"UNK\" for s in dataX[x]]\n",
    "    dataX[x] =np.array([char_to_int[w] for w in dataX[x]])\n",
    "dataX = sequence.pad_sequences(dataX, maxlen=maxLen, padding='post', truncating='post', value=n_vocab)\n"
   ]
  },
  {
   "cell_type": "code",
   "execution_count": 127,
   "metadata": {
    "collapsed": false
   },
   "outputs": [
    {
     "name": "stdout",
     "output_type": "stream",
     "text": [
      "[35 59 56 41 53 37  2  2 47 49 62 45  2 48 45 58  2 21  2 48 55 61 58  2 58\n",
      " 55 44 45 55 56 45 58 46 55 58 53 41 54 43 45  3  2 19 18 18  7  2 47 61 41\n",
      " 58 41 54 60 45 45 44  2 60 55  2 59 45 45  2 41 54  2 49 54 43 58 45 41 59\n",
      " 45  2 49 54  2 59 49 66 45  2 41 54 44  2 63 49 44 60 48  2 48 60 60 56 28\n",
      " 17 17 56 47 16 45 64 57 61 53 52 55 41 46 16 43 55 53 17 72 72 72 72 72 72\n",
      " 72 72 72 72 72 72 72 72 72 72 72 72 72 72 72 72 72 72 72 72 72 72 72 72 72\n",
      " 72 72 72 72 72 72 72 72 72 72 72 72 72 72 72 72 72 72 72 72 72 72 72 72 72\n",
      " 72 72 72 72 72 72 72 72 72 72 72 72 72 72 72 72 72 72 72 72 72 72 72 72 72\n",
      " 72 72 72 72 72 72 72 72 72 72 72 72 72 72 72 72 72 72 72 72 72 72 72 72 72\n",
      " 72 72 72 72 72 72 72 72 72 72 72 72 72 72 72 72 72 72 72 72 72 72 72 72 72\n",
      " 72 72 72 72 72 72 72 72 72 72 72 72 72 72 72 72 72 72 72 72 72 72 72 72 72\n",
      " 72 72 72 72 72 72 72 72 72 72 72 72 72 72 72 72 72 72 72 72 72 72 72 72 72]\n"
     ]
    }
   ],
   "source": [
    "dataX =  np.reshape(dataX, (-1, maxLen))\n",
    "# normalize\n",
    "#dataX = dataX / float(n_vocab+1)\n",
    "print(dataX[1])"
   ]
  },
  {
   "cell_type": "code",
   "execution_count": 128,
   "metadata": {
    "collapsed": false
   },
   "outputs": [
    {
     "data": {
      "text/plain": [
       "(3429, 300)"
      ]
     },
     "execution_count": 128,
     "metadata": {},
     "output_type": "execute_result"
    }
   ],
   "source": [
    "dataX.shape"
   ]
  },
  {
   "cell_type": "code",
   "execution_count": 129,
   "metadata": {
    "collapsed": false
   },
   "outputs": [],
   "source": [
    "dataY =keras.utils.to_categorical(dataY, 2)"
   ]
  },
  {
   "cell_type": "code",
   "execution_count": 130,
   "metadata": {
    "collapsed": false
   },
   "outputs": [],
   "source": [
    "dataX,dataY =shuffle(dataX,dataY)"
   ]
  },
  {
   "cell_type": "code",
   "execution_count": 131,
   "metadata": {
    "collapsed": false
   },
   "outputs": [
    {
     "data": {
      "text/plain": [
       "(3429, 300, 1)"
      ]
     },
     "execution_count": 131,
     "metadata": {},
     "output_type": "execute_result"
    }
   ],
   "source": [
    "dataX.shape\n",
    "X = np.reshape(dataX, (-1, maxLen, 1))\n",
    "X.shape"
   ]
  },
  {
   "cell_type": "code",
   "execution_count": 132,
   "metadata": {
    "collapsed": false
   },
   "outputs": [],
   "source": [
    "#making a train / test split\n",
    "emailCount = len(dataX)\n",
    "test_split = int(emailCount*0.9)\n",
    "\n",
    "x_train, y_train = dataX[0:test_split], dataY[0:test_split]\n",
    "x_test, y_test = dataX[test_split:], dataY[test_split:] "
   ]
  },
  {
   "cell_type": "code",
   "execution_count": 133,
   "metadata": {
    "collapsed": false
   },
   "outputs": [],
   "source": [
    "from keras import optimizers\n",
    "batch_size = 32\n",
    "max_features = len(char_to_int)\n",
    "sgd = optimizers.SGD(lr=0.1, decay=1e-6, momentum=0.9, nesterov=True)"
   ]
  },
  {
   "cell_type": "code",
   "execution_count": 134,
   "metadata": {
    "collapsed": false
   },
   "outputs": [],
   "source": [
    "sentenceLen = dataX.shape[1]\n",
    "vocabSize = len(char_to_int)\n",
    "embeddingOutputSize = 20"
   ]
  },
  {
   "cell_type": "code",
   "execution_count": 135,
   "metadata": {
    "collapsed": false
   },
   "outputs": [
    {
     "data": {
      "text/plain": [
       "(343, 2)"
      ]
     },
     "execution_count": 135,
     "metadata": {},
     "output_type": "execute_result"
    }
   ],
   "source": [
    "y_test.shape"
   ]
  },
  {
   "cell_type": "code",
   "execution_count": 136,
   "metadata": {
    "collapsed": false
   },
   "outputs": [
    {
     "data": {
      "text/plain": [
       "(3429, 300)"
      ]
     },
     "execution_count": 136,
     "metadata": {},
     "output_type": "execute_result"
    }
   ],
   "source": [
    "dataX.shape"
   ]
  },
  {
   "cell_type": "code",
   "execution_count": 137,
   "metadata": {
    "collapsed": false
   },
   "outputs": [],
   "source": [
    "inp = Input(shape=(X.shape[1],), dtype='int32')\n",
    "embedded = Embedding(output_dim=embeddingOutputSize, \n",
    "                     input_dim=vocabSize, input_length=sentenceLen,\n",
    "                    trainable=True)(inp)\n",
    "x = LSTM(64, return_sequences=True)(embedded)\n",
    "x = LSTM(64, go_backwards=True)(x)\n",
    "x = Dropout(0.2)(x)\n",
    "output = Dense(dataY.shape[1], activation ='softmax')(x)\n",
    "model = Model(inputs = inp, outputs=output )\n",
    "model.compile(loss='binary_crossentropy',optimizer=sgd,metrics=['accuracy'])"
   ]
  },
  {
   "cell_type": "code",
   "execution_count": 138,
   "metadata": {
    "collapsed": false
   },
   "outputs": [
    {
     "name": "stdout",
     "output_type": "stream",
     "text": [
      "_________________________________________________________________\n",
      "Layer (type)                 Output Shape              Param #   \n",
      "=================================================================\n",
      "input_16 (InputLayer)        (None, 300)               0         \n",
      "_________________________________________________________________\n",
      "embedding_9 (Embedding)      (None, 300, 20)           1440      \n",
      "_________________________________________________________________\n",
      "lstm_27 (LSTM)               (None, 300, 64)           21760     \n",
      "_________________________________________________________________\n",
      "lstm_28 (LSTM)               (None, 64)                33024     \n",
      "_________________________________________________________________\n",
      "dropout_11 (Dropout)         (None, 64)                0         \n",
      "_________________________________________________________________\n",
      "dense_12 (Dense)             (None, 2)                 130       \n",
      "=================================================================\n",
      "Total params: 56,354\n",
      "Trainable params: 56,354\n",
      "Non-trainable params: 0\n",
      "_________________________________________________________________\n"
     ]
    }
   ],
   "source": [
    "model.summary()"
   ]
  },
  {
   "cell_type": "code",
   "execution_count": 143,
   "metadata": {
    "collapsed": false
   },
   "outputs": [
    {
     "name": "stdout",
     "output_type": "stream",
     "text": [
      "\n"
     ]
    }
   ],
   "source": [
    "\n",
    "# Fit the model on the batches generated by datagen.flow().\n",
    "hist = model.fit(x_train, y_train,batch_size=batch_size,\n",
    "                    epochs=20,\n",
    "                    validation_data=(x_test, y_test),\n",
    "                    verbose=0,callbacks=[TQDMNotebookCallback(leave_inner=True,leave_outer=True)])"
   ]
  },
  {
   "cell_type": "code",
   "execution_count": 36,
   "metadata": {
    "collapsed": false
   },
   "outputs": [
    {
     "data": {
      "text/plain": [
       "(3086, 1000)"
      ]
     },
     "execution_count": 36,
     "metadata": {},
     "output_type": "execute_result"
    }
   ],
   "source": [
    "x_train.shape"
   ]
  },
  {
   "cell_type": "code",
   "execution_count": 68,
   "metadata": {
    "collapsed": true
   },
   "outputs": [],
   "source": [
    "%matplotlib inline\n",
    "import matplotlib.pyplot as plt\n",
    "def plot_train(hist):\n",
    "    h = hist.history\n",
    "    if 'acc' in h:\n",
    "        meas='acc'\n",
    "        loc='lower right'\n",
    "    else:\n",
    "        meas='loss'\n",
    "        loc='upper right'\n",
    "    plt.plot(hist.history[meas])\n",
    "    plt.plot(hist.history['val_'+meas])\n",
    "    plt.title('model '+meas)\n",
    "    plt.ylabel(meas)\n",
    "    plt.xlabel('epoch')\n",
    "    plt.legend(['train', 'validation'], loc=loc)"
   ]
  },
  {
   "cell_type": "code",
   "execution_count": 144,
   "metadata": {
    "collapsed": false
   },
   "outputs": [
    {
     "name": "stdout",
     "output_type": "stream",
     "text": [
      "{'val_loss': [0.22503959559143111, 0.25535709795381861, 0.21250823526792553, 0.19420495429469961, 0.19809636764727945, 0.22358565466918334, 0.25584027649014751, 0.24154754847548793, 0.21622789570784778, 0.41943056798884887, 0.19658895571099774, 0.24231204303638582, 0.18646884042737089, 0.17359899058286371, 0.16415898732124196, 0.15321365702604064, 0.16788890771024775, 0.15680034080677754, 0.15690300407284549, 0.18207745584211266], 'val_acc': [0.90379008746355682, 0.8892128286834361, 0.91545189643392755, 0.91545189573882968, 0.92128279952891712, 0.91545189712902553, 0.88046647369340281, 0.89212828127357768, 0.90962099264384011, 0.77259475566207836, 0.93002915590914625, 0.88338192489334866, 0.92128279952891712, 0.94460641468926698, 0.93877551089917954, 0.96209912536443154, 0.95626822157434399, 0.94752186588921283, 0.95335276967930027, 0.94169096418441911], 'loss': [0.27830564162596744, 0.26547744555358987, 0.25320902345092439, 0.23859729325701801, 0.22915173698112862, 0.23128765786690753, 0.28050609764462542, 0.24262218496974072, 0.22619168873217224, 0.24688384311583933, 0.31354118974388073, 0.29394909123360763, 0.2365023615255189, 0.20240788569291226, 0.18715627032754023, 0.17623979365060799, 0.15441716285162904, 0.14966453156993517, 0.14398048793123244, 0.12684350964394159], 'acc': [0.87394685708155362, 0.88431626732134616, 0.89630589791110638, 0.90084251473649946, 0.90213869101647348, 0.90181464710099624, 0.87686325355697903, 0.89825016217655129, 0.90699935191185999, 0.89889825023928016, 0.84802333117303952, 0.86876215169125381, 0.90213869101647348, 0.92352559948152946, 0.92871030475594207, 0.92935839289592903, 0.94296824383565692, 0.94718081674557264, 0.94232015554115356, 0.9526895659354625]}\n"
     ]
    },
    {
     "data": {
      "image/png": "[encoded data removed]",
      "text/plain": [
       "<matplotlib.figure.Figure at 0x7fbb820ce390>"
      ]
     },
     "metadata": {},
     "output_type": "display_data"
    }
   ],
   "source": [
    "plot_train(hist)\n",
    "print (hist.history)"
   ]
  },
  {
   "cell_type": "code",
   "execution_count": null,
   "metadata": {
    "collapsed": true
   },
   "outputs": [],
   "source": []
  }
 ],
 "metadata": {
  "kernelspec": {
   "display_name": "Python 3",
   "language": "python",
   "name": "python3"
  },
  "language_info": {
   "codemirror_mode": {
    "name": "ipython",
    "version": 3
   },
   "file_extension": ".py",
   "mimetype": "text/x-python",
   "name": "python",
   "nbconvert_exporter": "python",
   "pygments_lexer": "ipython3",
   "version": "3.6.0"
  },
  "widgets": {
   "state": {
    "00e4fe2c4b3d41808018f1076e4dba40": {
     "views": [
      {
       "cell_index": 19
      }
     ]
    },
    "038fbc41c17c4d2f9ae4fa244d23b795": {
     "views": [
      {
       "cell_index": 20
      }
     ]
    },
    "09107c1d394d40159519bae6e7107fa2": {
     "views": [
      {
       "cell_index": 20
      }
     ]
    },
    "0f16731b11684cd5b358e86b91186711": {
     "views": [
      {
       "cell_index": 20
      }
     ]
    },
    "0fed5f66414e4034a4e037c3fb57807d": {
     "views": [
      {
       "cell_index": 20
      }
     ]
    },
    "17adde3bf1f24e139139934ed0d45a64": {
     "views": [
      {
       "cell_index": 20
      }
     ]
    },
    "18025a3fdbc24ff28d7298899fba8cb0": {
     "views": [
      {
       "cell_index": 20
      }
     ]
    },
    "1ff05f9ad31f4763b44ea21064bf23ae": {
     "views": [
      {
       "cell_index": 20
      }
     ]
    },
    "2e0625c4d71a4068b68b10314ea029e8": {
     "views": [
      {
       "cell_index": 21
      }
     ]
    },
    "2ec49241e59e415cb35b2a2d54db7ae9": {
     "views": [
      {
       "cell_index": 20
      }
     ]
    },
    "31e07888c9b546e5b53f7b4eeddc3f5c": {
     "views": [
      {
       "cell_index": 21
      }
     ]
    },
    "3ca664fe2acd4768b9a02e724aff6a2c": {
     "views": [
      {
       "cell_index": 21
      }
     ]
    },
    "428a7fa763174470a7ddf979952c6caf": {
     "views": [
      {
       "cell_index": 20
      }
     ]
    },
    "4a3c876e630c4f5d8bc500a131e1a4fe": {
     "views": [
      {
       "cell_index": 20
      }
     ]
    },
    "4c7d3a234bb84784a637c395a2e5d360": {
     "views": [
      {
       "cell_index": 20
      }
     ]
    },
    "4ea5e47b306743ba88de78fbd7b0b0cb": {
     "views": [
      {
       "cell_index": 20
      }
     ]
    },
    "51d44693e32a4daa89dc80dcec8287f5": {
     "views": [
      {
       "cell_index": 20
      }
     ]
    },
    "57b14decafc74bb69dc9950527640768": {
     "views": [
      {
       "cell_index": 20
      }
     ]
    },
    "59732e6e4cbb44cb8cb6e19ab0d60bff": {
     "views": [
      {
       "cell_index": 20
      }
     ]
    },
    "5d478961822b4fae90495841a667eff1": {
     "views": [
      {
       "cell_index": 20
      }
     ]
    },
    "62c105e1f3594a74a8a7b7660690608f": {
     "views": [
      {
       "cell_index": 20
      }
     ]
    },
    "63d7e8bebf0345ffb81574549edfc37b": {
     "views": [
      {
       "cell_index": 20
      }
     ]
    },
    "6582f08040114e8e89183b11f72e4e31": {
     "views": [
      {
       "cell_index": 20
      }
     ]
    },
    "6872016a17514c9f92f4dcde59efec75": {
     "views": [
      {
       "cell_index": 20
      }
     ]
    },
    "6b2964edc459427eb80e00de99b9f572": {
     "views": [
      {
       "cell_index": 19
      }
     ]
    },
    "77316462c62549679c698f915c0a9e20": {
     "views": [
      {
       "cell_index": 20
      }
     ]
    },
    "7c1347c0c13848b48ac367f73c957641": {
     "views": [
      {
       "cell_index": 20
      }
     ]
    },
    "918d058715d5448bb7c9b9d3de0297f1": {
     "views": [
      {
       "cell_index": 21
      }
     ]
    },
    "96584be1037648e0958527737943ea7a": {
     "views": [
      {
       "cell_index": 20
      }
     ]
    },
    "a209bc9927d3436b81b0c42f67281a14": {
     "views": [
      {
       "cell_index": 20
      }
     ]
    },
    "a4260dbf2dc94e59bb43538034fd8edb": {
     "views": [
      {
       "cell_index": 19
      }
     ]
    },
    "a953dad65c3f484daa63bdb104550767": {
     "views": [
      {
       "cell_index": 20
      }
     ]
    },
    "aa3d124db49d425883f02a19ebf3c763": {
     "views": [
      {
       "cell_index": 20
      }
     ]
    },
    "b4d1968b8ca742049ce5ed54e9ee9264": {
     "views": [
      {
       "cell_index": 21
      }
     ]
    },
    "b73c8953aaa845689e0e3ef7e6e475b1": {
     "views": [
      {
       "cell_index": 20
      }
     ]
    },
    "bea44d2fcd1a4003a5959ab2274c1007": {
     "views": [
      {
       "cell_index": 20
      }
     ]
    },
    "bfbd40aa5b8a404daf3bcbfaeac3480e": {
     "views": [
      {
       "cell_index": 20
      }
     ]
    },
    "c6a9d18a1ea1430f9a51be5cfafeeb4e": {
     "views": [
      {
       "cell_index": 20
      }
     ]
    },
    "c82f7190ab494b919714c6df7cc2c2d3": {
     "views": [
      {
       "cell_index": 21
      }
     ]
    },
    "d01506a819804c28884d12c8ab10eb8f": {
     "views": [
      {
       "cell_index": 19
      }
     ]
    },
    "d4e30a175ef5413a88727d5ea92def90": {
     "views": [
      {
       "cell_index": 20
      }
     ]
    },
    "d4fefade897c4772813d7f6efc843070": {
     "views": [
      {
       "cell_index": 20
      }
     ]
    },
    "d52d9fa819a04803b3891b80b6ecb11e": {
     "views": [
      {
       "cell_index": 20
      }
     ]
    },
    "d62109acc7344b468bcc1a527eb08b15": {
     "views": [
      {
       "cell_index": 19
      }
     ]
    },
    "d89e285251134cd9a2a93a88171711ae": {
     "views": [
      {
       "cell_index": 21
      }
     ]
    },
    "e0fa1977646b4af78bb08de53063f79a": {
     "views": [
      {
       "cell_index": 20
      }
     ]
    },
    "e352fadffb3d433c8b9f585c78977e89": {
     "views": [
      {
       "cell_index": 21
      }
     ]
    },
    "e41bc50e2c5f49478682d96deacd1209": {
     "views": [
      {
       "cell_index": 20
      }
     ]
    },
    "e9778af23194416e99205db59bd79e00": {
     "views": [
      {
       "cell_index": 20
      }
     ]
    },
    "eb0c0c4bc8b4411a92d59b1a16ea8c9f": {
     "views": [
      {
       "cell_index": 20
      }
     ]
    },
    "fafea1aa7a3443c99ebcd2fe5c6996b0": {
     "views": [
      {
       "cell_index": 21
      }
     ]
    },
    "fc9810802d004c3499d495b6ee14a385": {
     "views": [
      {
       "cell_index": 19
      }
     ]
    }
   },
   "version": "1.2.0"
  }
 },
 "nbformat": 4,
 "nbformat_minor": 2
}
