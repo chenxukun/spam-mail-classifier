{
 "cells": [
  {
   "cell_type": "code",
   "execution_count": 1,
   "metadata": {
    "collapsed": false
   },
   "outputs": [
    {
     "name": "stderr",
     "output_type": "stream",
     "text": [
      "Using TensorFlow backend.\n"
     ]
    }
   ],
   "source": [
    "import email.parser\n",
    "import os, sys, stat\n",
    "import shutil\n",
    "import pandas as pd\n",
    "from sklearn.utils import shuffle\n",
    "import numpy as np\n",
    "import nltk\n",
    "\n",
    "import keras\n",
    "from keras.models import Sequential\n",
    "from keras.preprocessing import sequence\n",
    "from keras.layers import Dense, Embedding, Flatten, Input\n",
    "from keras.layers import LSTM,Bidirectional,Reshape, add, concatenate, Activation, Conv1D, BatchNormalization, Dropout, MaxPooling1D\n",
    "from collections import Counter\n",
    "from keras_tqdm import TQDMNotebookCallback\n",
    "from keras.models import Model\n",
    "\n",
    "from bs4 import BeautifulSoup"
   ]
  },
  {
   "cell_type": "code",
   "execution_count": 2,
   "metadata": {
    "collapsed": false
   },
   "outputs": [],
   "source": [
    "def ExtractSubPayload (filename):\n",
    "    global count\n",
    "    global afterEleminateCount\n",
    "    ''' Extract the subject and payload from the .eml file.\n",
    "    \n",
    "    '''\n",
    "    if not os.path.exists(filename): # dest path doesnot exist\n",
    "        print (\"ERROR: input file does not exist:\", filename)\n",
    "        os.exit(1)\n",
    "    fp = open(filename)\n",
    "    count+=1\n",
    "    try:\n",
    "        msg = email.message_from_file(fp)\n",
    "        payload = msg.get_payload()\n",
    "        if type(payload) == type(list()) :\n",
    "            soup = BeautifulSoup(payload[0]) # only use the first part of payload\n",
    "            txt = soup.get_text()\n",
    "            txt = ' '.join(txt.split())\n",
    "            i = txt.find(\"Content-Transfer-Encoding\")\n",
    "            payload = txt[i + len(\"Content-Transfer-Encoding\"):].split(maxsplit=2)[2]\n",
    "        else:\n",
    "            soup = BeautifulSoup(payload)\n",
    "            txt = soup.get_text()\n",
    "            txt = ' '.join(txt.split())\n",
    "            i = txt.find(\"Content-Transfer-Encoding\")\n",
    "            payload = txt[i + len(\"Content-Transfer-Encoding\"):].split(maxsplit=2)[2]\n",
    "        sub = msg.get('subject')\n",
    "        sub = str(sub)\n",
    "        if type(payload) != type('') :\n",
    "            payload = str(payload)\n",
    "\n",
    "        afterEleminateCount+=1;\n",
    "        return sub + payload\n",
    "    except Exception as e:\n",
    "        #print(fp)\n",
    "        #print (count)\n",
    "        removedList.append(count)"
   ]
  },
  {
   "cell_type": "code",
   "execution_count": 3,
   "metadata": {
    "collapsed": false
   },
   "outputs": [],
   "source": [
    "def ExtractBodyFromDir ( srcdir, dstdir ):\n",
    "    global dataX\n",
    "    global raw_text\n",
    "    '''Extract the body information from all .eml files in the srcdir and \n",
    "    \n",
    "    save the file to the dstdir with the same name.'''\n",
    "    #if not os.path.exists(dstdir): # dest path doesnot exist\n",
    "     #   os.makedirs(dstdir)  \n",
    "    files = os.listdir(srcdir)\n",
    "    files = sorted(files)\n",
    "    for file in files:\n",
    "        srcpath = os.path.join(srcdir, file)\n",
    "        dstpath = os.path.join(dstdir, file)\n",
    "        src_info = os.stat(srcpath)\n",
    "        if stat.S_ISDIR(src_info.st_mode): # for subfolders, recurse\n",
    "            ExtractBodyFromDir(srcpath, dstpath)\n",
    "        else:  # copy the file\n",
    "            body = ExtractSubPayload (srcpath)\n",
    "            if body !=None:\n",
    "                #dstfile = open(dstpath, 'w')\n",
    "                #dstfile.write(body)\n",
    "                #dstfile.close()\n",
    "                dataX.append(body)\n",
    "                raw_text += body"
   ]
  },
  {
   "cell_type": "code",
   "execution_count": 4,
   "metadata": {
    "collapsed": false
   },
   "outputs": [
    {
     "name": "stderr",
     "output_type": "stream",
     "text": [
      "/home/chenxukun/anaconda3/lib/python3.6/site-packages/bs4/__init__.py:181: UserWarning: No parser was explicitly specified, so I'm using the best available HTML parser for this system (\"lxml\"). This usually isn't a problem, but if you run this code on another system, or in a different virtual environment, it may use a different parser and behave differently.\n",
      "\n",
      "The code that caused this warning is on line 193 of the file /home/chenxukun/anaconda3/lib/python3.6/runpy.py. To get rid of this warning, change code that looks like this:\n",
      "\n",
      " BeautifulSoup([your markup])\n",
      "\n",
      "to this:\n",
      "\n",
      " BeautifulSoup([your markup], \"lxml\")\n",
      "\n",
      "  markup_type=markup_type))\n",
      "/home/chenxukun/anaconda3/lib/python3.6/site-packages/bs4/__init__.py:282: UserWarning: \"http://www.post-gazette.com/columnists/20020905brian5.asp\n",
      "\n",
      "\n",
      "\n",
      "\" looks like a URL. Beautiful Soup is not an HTTP client. You should probably use an HTTP client like requests to get the document behind the URL, and feed that document to Beautiful Soup.\n",
      "  ' that document to Beautiful Soup.' % decoded_markup\n"
     ]
    }
   ],
   "source": [
    "count=-1\n",
    "removedList=[]\n",
    "afterEleminateCount=0\n",
    "dataX = []\n",
    "raw_text = \"\"\n",
    "\n",
    "srcdir = \"./TRAINING/\"\n",
    "\n",
    "if not os.path.exists(srcdir):\n",
    "    print ('The source directory %s does not exist, exit...' % (srcdir))\n",
    "    sys.exit()\n",
    "\n",
    "dstdir = \"./Output\"\n",
    "if not os.path.exists(dstdir):\n",
    "    print ('The destination directory is newly created.')\n",
    "    os.makedirs(dstdir)\n",
    "\n",
    "ExtractBodyFromDir ( srcdir, dstdir ) \n"
   ]
  },
  {
   "cell_type": "code",
   "execution_count": 29,
   "metadata": {
    "collapsed": false
   },
   "outputs": [
    {
     "data": {
      "text/plain": [
       "[0,\n",
       " 2,\n",
       " 13,\n",
       " 16,\n",
       " 18,\n",
       " 24,\n",
       " 31,\n",
       " 32,\n",
       " 34,\n",
       " 38,\n",
       " 40,\n",
       " 42,\n",
       " 44,\n",
       " 60,\n",
       " 62,\n",
       " 79,\n",
       " 82,\n",
       " 92,\n",
       " 104,\n",
       " 108,\n",
       " 110,\n",
       " 116,\n",
       " 122,\n",
       " 124,\n",
       " 127,\n",
       " 135,\n",
       " 136,\n",
       " 140,\n",
       " 141,\n",
       " 147,\n",
       " 157,\n",
       " 163,\n",
       " 165,\n",
       " 182,\n",
       " 190,\n",
       " 198,\n",
       " 199,\n",
       " 201,\n",
       " 210,\n",
       " 219,\n",
       " 220,\n",
       " 223,\n",
       " 224,\n",
       " 227,\n",
       " 230,\n",
       " 242,\n",
       " 247,\n",
       " 250,\n",
       " 254,\n",
       " 257,\n",
       " 263,\n",
       " 276,\n",
       " 285,\n",
       " 288,\n",
       " 291,\n",
       " 295,\n",
       " 299,\n",
       " 314,\n",
       " 315,\n",
       " 319,\n",
       " 324,\n",
       " 325,\n",
       " 331,\n",
       " 333,\n",
       " 334,\n",
       " 335,\n",
       " 337,\n",
       " 339,\n",
       " 353,\n",
       " 356,\n",
       " 358,\n",
       " 359,\n",
       " 363,\n",
       " 371,\n",
       " 373,\n",
       " 375,\n",
       " 378,\n",
       " 380,\n",
       " 390,\n",
       " 391,\n",
       " 392,\n",
       " 395,\n",
       " 398,\n",
       " 401,\n",
       " 408,\n",
       " 426,\n",
       " 427,\n",
       " 432,\n",
       " 436,\n",
       " 446,\n",
       " 448,\n",
       " 454,\n",
       " 456,\n",
       " 459,\n",
       " 470,\n",
       " 477,\n",
       " 480,\n",
       " 482,\n",
       " 487,\n",
       " 488,\n",
       " 494,\n",
       " 499,\n",
       " 502,\n",
       " 509,\n",
       " 512,\n",
       " 515,\n",
       " 523,\n",
       " 525,\n",
       " 537,\n",
       " 538,\n",
       " 542,\n",
       " 553,\n",
       " 555,\n",
       " 561,\n",
       " 564,\n",
       " 566,\n",
       " 568,\n",
       " 569,\n",
       " 573,\n",
       " 578,\n",
       " 579,\n",
       " 582,\n",
       " 585,\n",
       " 597,\n",
       " 598,\n",
       " 601,\n",
       " 603,\n",
       " 604,\n",
       " 606,\n",
       " 624,\n",
       " 625,\n",
       " 629,\n",
       " 631,\n",
       " 632,\n",
       " 641,\n",
       " 642,\n",
       " 644,\n",
       " 646,\n",
       " 654,\n",
       " 662,\n",
       " 663,\n",
       " 667,\n",
       " 675,\n",
       " 680,\n",
       " 682,\n",
       " 687,\n",
       " 688,\n",
       " 690,\n",
       " 694,\n",
       " 704,\n",
       " 710,\n",
       " 715,\n",
       " 723,\n",
       " 724,\n",
       " 729,\n",
       " 732,\n",
       " 734,\n",
       " 738,\n",
       " 754,\n",
       " 762,\n",
       " 769,\n",
       " 773,\n",
       " 775,\n",
       " 776,\n",
       " 800,\n",
       " 801,\n",
       " 807,\n",
       " 811,\n",
       " 812,\n",
       " 814,\n",
       " 815,\n",
       " 820,\n",
       " 825,\n",
       " 832,\n",
       " 834,\n",
       " 839,\n",
       " 842,\n",
       " 844,\n",
       " 849,\n",
       " 853,\n",
       " 854,\n",
       " 856,\n",
       " 857,\n",
       " 859,\n",
       " 862,\n",
       " 868,\n",
       " 869,\n",
       " 872,\n",
       " 874,\n",
       " 877,\n",
       " 879,\n",
       " 884,\n",
       " 888,\n",
       " 892,\n",
       " 898,\n",
       " 903,\n",
       " 904,\n",
       " 907,\n",
       " 911,\n",
       " 912,\n",
       " 919,\n",
       " 920,\n",
       " 922,\n",
       " 929,\n",
       " 930,\n",
       " 946,\n",
       " 947,\n",
       " 950,\n",
       " 969,\n",
       " 977,\n",
       " 978,\n",
       " 979,\n",
       " 980,\n",
       " 981,\n",
       " 982,\n",
       " 984,\n",
       " 986,\n",
       " 989,\n",
       " 1003,\n",
       " 1005,\n",
       " 1018,\n",
       " 1029,\n",
       " 1031,\n",
       " 1035,\n",
       " 1039,\n",
       " 1043,\n",
       " 1047,\n",
       " 1050,\n",
       " 1054,\n",
       " 1074,\n",
       " 1075,\n",
       " 1084,\n",
       " 1092,\n",
       " 1106,\n",
       " 1107,\n",
       " 1109,\n",
       " 1113,\n",
       " 1116,\n",
       " 1118,\n",
       " 1120,\n",
       " 1124,\n",
       " 1126,\n",
       " 1132,\n",
       " 1139,\n",
       " 1140,\n",
       " 1144,\n",
       " 1145,\n",
       " 1147,\n",
       " 1148,\n",
       " 1149,\n",
       " 1155,\n",
       " 1161,\n",
       " 1176,\n",
       " 1180,\n",
       " 1181,\n",
       " 1182,\n",
       " 1185,\n",
       " 1209,\n",
       " 1215,\n",
       " 1224,\n",
       " 1229,\n",
       " 1232,\n",
       " 1233,\n",
       " 1234,\n",
       " 1238,\n",
       " 1242,\n",
       " 1246,\n",
       " 1251,\n",
       " 1256,\n",
       " 1264,\n",
       " 1267,\n",
       " 1271,\n",
       " 1276,\n",
       " 1277,\n",
       " 1280,\n",
       " 1282,\n",
       " 1284,\n",
       " 1287,\n",
       " 1288,\n",
       " 1296,\n",
       " 1302,\n",
       " 1308,\n",
       " 1313,\n",
       " 1317,\n",
       " 1321,\n",
       " 1324,\n",
       " 1326,\n",
       " 1330,\n",
       " 1341,\n",
       " 1344,\n",
       " 1347,\n",
       " 1355,\n",
       " 1378,\n",
       " 1386,\n",
       " 1387,\n",
       " 1392,\n",
       " 1394,\n",
       " 1398,\n",
       " 1399,\n",
       " 1405,\n",
       " 1406,\n",
       " 1408,\n",
       " 1426,\n",
       " 1430,\n",
       " 1433,\n",
       " 1437,\n",
       " 1438,\n",
       " 1443,\n",
       " 1444,\n",
       " 1445,\n",
       " 1449,\n",
       " 1481,\n",
       " 1490,\n",
       " 1504,\n",
       " 1511,\n",
       " 1515,\n",
       " 1521,\n",
       " 1523,\n",
       " 1530,\n",
       " 1531,\n",
       " 1535,\n",
       " 1536,\n",
       " 1537,\n",
       " 1551,\n",
       " 1559,\n",
       " 1560,\n",
       " 1563,\n",
       " 1566,\n",
       " 1575,\n",
       " 1584,\n",
       " 1586,\n",
       " 1596,\n",
       " 1600,\n",
       " 1602,\n",
       " 1604,\n",
       " 1608,\n",
       " 1613,\n",
       " 1623,\n",
       " 1631,\n",
       " 1632,\n",
       " 1644,\n",
       " 1652,\n",
       " 1658,\n",
       " 1659,\n",
       " 1661,\n",
       " 1662,\n",
       " 1670,\n",
       " 1684,\n",
       " 1693,\n",
       " 1700,\n",
       " 1701,\n",
       " 1702,\n",
       " 1705,\n",
       " 1708,\n",
       " 1709,\n",
       " 1713,\n",
       " 1715,\n",
       " 1730,\n",
       " 1731,\n",
       " 1736,\n",
       " 1743,\n",
       " 1747,\n",
       " 1765,\n",
       " 1767,\n",
       " 1777,\n",
       " 1780,\n",
       " 1783,\n",
       " 1790,\n",
       " 1799,\n",
       " 1808,\n",
       " 1811,\n",
       " 1820,\n",
       " 1821,\n",
       " 1828,\n",
       " 1831,\n",
       " 1834,\n",
       " 1838,\n",
       " 1841,\n",
       " 1842,\n",
       " 1848,\n",
       " 1852,\n",
       " 1855,\n",
       " 1862,\n",
       " 1868,\n",
       " 1870,\n",
       " 1872,\n",
       " 1874,\n",
       " 1880,\n",
       " 1881,\n",
       " 1888,\n",
       " 1889,\n",
       " 1891,\n",
       " 1892,\n",
       " 1894,\n",
       " 1896,\n",
       " 1897,\n",
       " 1898,\n",
       " 1903,\n",
       " 1904,\n",
       " 1908,\n",
       " 1916,\n",
       " 1918,\n",
       " 1921,\n",
       " 1924,\n",
       " 1928,\n",
       " 1929,\n",
       " 1934,\n",
       " 1941,\n",
       " 1949,\n",
       " 1950,\n",
       " 1952,\n",
       " 1963,\n",
       " 1965,\n",
       " 1972,\n",
       " 1973,\n",
       " 1976,\n",
       " 1977,\n",
       " 1979,\n",
       " 1982,\n",
       " 1985,\n",
       " 1987,\n",
       " 1995,\n",
       " 1998,\n",
       " 2003,\n",
       " 2012,\n",
       " 2015,\n",
       " 2020,\n",
       " 2029,\n",
       " 2032,\n",
       " 2033,\n",
       " 2036,\n",
       " 2038,\n",
       " 2040,\n",
       " 2041,\n",
       " 2045,\n",
       " 2048,\n",
       " 2055,\n",
       " 2057,\n",
       " 2058,\n",
       " 2064,\n",
       " 2068,\n",
       " 2069,\n",
       " 2070,\n",
       " 2072,\n",
       " 2074,\n",
       " 2077,\n",
       " 2084,\n",
       " 2091,\n",
       " 2092,\n",
       " 2100,\n",
       " 2109,\n",
       " 2114,\n",
       " 2118,\n",
       " 2133,\n",
       " 2137,\n",
       " 2164,\n",
       " 2171,\n",
       " 2173,\n",
       " 2183,\n",
       " 2184,\n",
       " 2189,\n",
       " 2192,\n",
       " 2193,\n",
       " 2199,\n",
       " 2201,\n",
       " 2208,\n",
       " 2211,\n",
       " 2222,\n",
       " 2224,\n",
       " 2247,\n",
       " 2257,\n",
       " 2269,\n",
       " 2276,\n",
       " 2281,\n",
       " 2282,\n",
       " 2285,\n",
       " 2286,\n",
       " 2288,\n",
       " 2293,\n",
       " 2301,\n",
       " 2307,\n",
       " 2310,\n",
       " 2311,\n",
       " 2313,\n",
       " 2316,\n",
       " 2327,\n",
       " 2328,\n",
       " 2334,\n",
       " 2335,\n",
       " 2338,\n",
       " 2342,\n",
       " 2355,\n",
       " 2359,\n",
       " 2363,\n",
       " 2388,\n",
       " 2390,\n",
       " 2391,\n",
       " 2392,\n",
       " 2399,\n",
       " 2400,\n",
       " 2402,\n",
       " 2410,\n",
       " 2415,\n",
       " 2419,\n",
       " 2422,\n",
       " 2429,\n",
       " 2431,\n",
       " 2432,\n",
       " 2437,\n",
       " 2440,\n",
       " 2443,\n",
       " 2446,\n",
       " 2448,\n",
       " 2456,\n",
       " 2457,\n",
       " 2458,\n",
       " 2466,\n",
       " 2468,\n",
       " 2470,\n",
       " 2473,\n",
       " 2476,\n",
       " 2481,\n",
       " 2482,\n",
       " 2484,\n",
       " 2491,\n",
       " 2493,\n",
       " 2495,\n",
       " 2502,\n",
       " 2504,\n",
       " 2510,\n",
       " 2513,\n",
       " 2515,\n",
       " 2534,\n",
       " 2535,\n",
       " 2544,\n",
       " 2550,\n",
       " 2552,\n",
       " 2559,\n",
       " 2564,\n",
       " 2566,\n",
       " 2568,\n",
       " 2570,\n",
       " 2590,\n",
       " 2598,\n",
       " 2603,\n",
       " 2606,\n",
       " 2611,\n",
       " 2612,\n",
       " 2613,\n",
       " 2619,\n",
       " 2621,\n",
       " 2625,\n",
       " 2628,\n",
       " 2639,\n",
       " 2643,\n",
       " 2646,\n",
       " 2650,\n",
       " 2652,\n",
       " 2654,\n",
       " 2655,\n",
       " 2658,\n",
       " 2661,\n",
       " 2663,\n",
       " 2670,\n",
       " 2680,\n",
       " 2686,\n",
       " 2691,\n",
       " 2698,\n",
       " 2705,\n",
       " 2710,\n",
       " 2715,\n",
       " 2717,\n",
       " 2726,\n",
       " 2728,\n",
       " 2737,\n",
       " 2739,\n",
       " 2742,\n",
       " 2743,\n",
       " 2746,\n",
       " 2753,\n",
       " 2756,\n",
       " 2761,\n",
       " 2765,\n",
       " 2767,\n",
       " 2787,\n",
       " 2796,\n",
       " 2797,\n",
       " 2799,\n",
       " 2800,\n",
       " 2805,\n",
       " 2841,\n",
       " 2843,\n",
       " 2845,\n",
       " 2846,\n",
       " 2850,\n",
       " 2855,\n",
       " 2860,\n",
       " 2861,\n",
       " 2879,\n",
       " 2885,\n",
       " 2905,\n",
       " 2906,\n",
       " 2910,\n",
       " 2915,\n",
       " 2921,\n",
       " 2925,\n",
       " 2927,\n",
       " 2929,\n",
       " 2934,\n",
       " 2945,\n",
       " 2946,\n",
       " 2948,\n",
       " 2949,\n",
       " 2954,\n",
       " 2957,\n",
       " 2975,\n",
       " 2981,\n",
       " 2983,\n",
       " 3000,\n",
       " 3008,\n",
       " 3014,\n",
       " 3020,\n",
       " 3035,\n",
       " 3036,\n",
       " 3041,\n",
       " 3051,\n",
       " 3053,\n",
       " 3054,\n",
       " 3055,\n",
       " 3056,\n",
       " 3069,\n",
       " 3074,\n",
       " 3077,\n",
       " 3099,\n",
       " 3109,\n",
       " 3115,\n",
       " 3117,\n",
       " 3130,\n",
       " 3133,\n",
       " 3137,\n",
       " 3139,\n",
       " 3147,\n",
       " 3151,\n",
       " 3154,\n",
       " 3155,\n",
       " 3158,\n",
       " 3163,\n",
       " 3171,\n",
       " 3179,\n",
       " 3181,\n",
       " 3182,\n",
       " 3190,\n",
       " 3196,\n",
       " 3198,\n",
       " 3203,\n",
       " 3214,\n",
       " 3217,\n",
       " 3224,\n",
       " 3226,\n",
       " 3227,\n",
       " 3230,\n",
       " 3231,\n",
       " 3249,\n",
       " 3251,\n",
       " 3255,\n",
       " 3259,\n",
       " 3265,\n",
       " 3267,\n",
       " 3272,\n",
       " 3273,\n",
       " 3280,\n",
       " 3285,\n",
       " 3290,\n",
       " 3292,\n",
       " 3295,\n",
       " 3304,\n",
       " 3310,\n",
       " 3340,\n",
       " 3341,\n",
       " 3342,\n",
       " 3354,\n",
       " 3358,\n",
       " 3360,\n",
       " 3365,\n",
       " 3369,\n",
       " 3371,\n",
       " 3372,\n",
       " 3374,\n",
       " 3375,\n",
       " 3383,\n",
       " 3385,\n",
       " 3400,\n",
       " 3401,\n",
       " 3402,\n",
       " 3407,\n",
       " 3411,\n",
       " 3412,\n",
       " 3415,\n",
       " 3424,\n",
       " 3431,\n",
       " 3433,\n",
       " 3444,\n",
       " 3448,\n",
       " 3451,\n",
       " 3453,\n",
       " 3457,\n",
       " 3464,\n",
       " 3469,\n",
       " 3481,\n",
       " 3484,\n",
       " 3488,\n",
       " 3497,\n",
       " 3500,\n",
       " 3502,\n",
       " 3517,\n",
       " 3525,\n",
       " 3534,\n",
       " 3535,\n",
       " 3536,\n",
       " 3540,\n",
       " 3545,\n",
       " 3560,\n",
       " 3565,\n",
       " 3566,\n",
       " 3568,\n",
       " 3578,\n",
       " 3579,\n",
       " 3582,\n",
       " 3603,\n",
       " 3605,\n",
       " 3616,\n",
       " 3618,\n",
       " 3619,\n",
       " 3626,\n",
       " 3628,\n",
       " 3632,\n",
       " 3633,\n",
       " 3638,\n",
       " 3644,\n",
       " 3650,\n",
       " 3657,\n",
       " 3661,\n",
       " 3665,\n",
       " 3667,\n",
       " 3676,\n",
       " 3677,\n",
       " 3678,\n",
       " 3686,\n",
       " 3694,\n",
       " 3711,\n",
       " 3714,\n",
       " 3720,\n",
       " 3721,\n",
       " 3727,\n",
       " 3732,\n",
       " 3738,\n",
       " 3740,\n",
       " 3747,\n",
       " 3748,\n",
       " 3750,\n",
       " 3761,\n",
       " 3763,\n",
       " 3765,\n",
       " 3767,\n",
       " 3769,\n",
       " 3774,\n",
       " 3776,\n",
       " 3783,\n",
       " 3785,\n",
       " 3788,\n",
       " 3791,\n",
       " 3801,\n",
       " 3803,\n",
       " 3809,\n",
       " 3811,\n",
       " 3813,\n",
       " 3814,\n",
       " 3815,\n",
       " 3816,\n",
       " 3822,\n",
       " 3824,\n",
       " 3827,\n",
       " 3836,\n",
       " 3848,\n",
       " 3851,\n",
       " 3854,\n",
       " 3855,\n",
       " 3856,\n",
       " 3860,\n",
       " 3864,\n",
       " 3878,\n",
       " 3881,\n",
       " 3892,\n",
       " 3897,\n",
       " 3898,\n",
       " 3905,\n",
       " 3914,\n",
       " 3915,\n",
       " 3917,\n",
       " 3918,\n",
       " 3921,\n",
       " 3932,\n",
       " 3933,\n",
       " 3945,\n",
       " 3951,\n",
       " 3953,\n",
       " 3954,\n",
       " 3955,\n",
       " 3957,\n",
       " 3964,\n",
       " 3973,\n",
       " 3974,\n",
       " 3990,\n",
       " 3993,\n",
       " 3996,\n",
       " 3997,\n",
       " 4005,\n",
       " 4008,\n",
       " 4013,\n",
       " 4019,\n",
       " 4023,\n",
       " 4024,\n",
       " 4026,\n",
       " 4028,\n",
       " 4032,\n",
       " 4033,\n",
       " 4038,\n",
       " 4043,\n",
       " 4048,\n",
       " 4058,\n",
       " 4060,\n",
       " 4064,\n",
       " 4071,\n",
       " 4072,\n",
       " 4080,\n",
       " 4083,\n",
       " 4092,\n",
       " 4094,\n",
       " 4102,\n",
       " 4107,\n",
       " 4109,\n",
       " 4114,\n",
       " 4116,\n",
       " 4117,\n",
       " 4126,\n",
       " 4129,\n",
       " 4131,\n",
       " 4132,\n",
       " 4134,\n",
       " 4137,\n",
       " 4140,\n",
       " 4149,\n",
       " 4152,\n",
       " 4153,\n",
       " 4158,\n",
       " 4162,\n",
       " 4163,\n",
       " 4164,\n",
       " 4165,\n",
       " 4168,\n",
       " 4176,\n",
       " 4178,\n",
       " 4182,\n",
       " 4185,\n",
       " 4186,\n",
       " 4187,\n",
       " 4200,\n",
       " 4201,\n",
       " 4213,\n",
       " 4214,\n",
       " 4216,\n",
       " 4219,\n",
       " 4223,\n",
       " 4227,\n",
       " 4242,\n",
       " 4247,\n",
       " 4252,\n",
       " 4262,\n",
       " 4264,\n",
       " 4268,\n",
       " 4273,\n",
       " 4274,\n",
       " 4283,\n",
       " 4284,\n",
       " 4285,\n",
       " 4287,\n",
       " 4289,\n",
       " 4293,\n",
       " 4294,\n",
       " 4303,\n",
       " 4304,\n",
       " 4305,\n",
       " 4306,\n",
       " 4308,\n",
       " 4312,\n",
       " 4315,\n",
       " 4321,\n",
       " 4322]"
      ]
     },
     "execution_count": 29,
     "metadata": {},
     "output_type": "execute_result"
    }
   ],
   "source": [
    "removedList"
   ]
  },
  {
   "cell_type": "code",
   "execution_count": 6,
   "metadata": {
    "collapsed": false
   },
   "outputs": [],
   "source": [
    "f = open('SPAMTrain.label', 'r')\n",
    "x = f.readlines()\n",
    "dataYdebug = [i for j, i in enumerate(x) if j not in removedList]\n",
    "test = \"\".join(dataYdebug )\n",
    "dstfile = open(\"processedlabel\", 'w')\n",
    "dstfile.write(test)\n",
    "dstfile.close()\n",
    "dataY = list(map(lambda x:x.split()[0], dataYdebug))\n",
    "#dataY"
   ]
  },
  {
   "cell_type": "code",
   "execution_count": 7,
   "metadata": {
    "collapsed": false
   },
   "outputs": [
    {
     "name": "stdout",
     "output_type": "stream",
     "text": [
      "3429\n",
      "0.7223680373286673\n"
     ]
    }
   ],
   "source": [
    "print(len(dataY))\n",
    "print(dataY.count('1')/len(dataY))"
   ]
  },
  {
   "cell_type": "code",
   "execution_count": 8,
   "metadata": {
    "collapsed": false
   },
   "outputs": [
    {
     "name": "stdout",
     "output_type": "stream",
     "text": [
      "['\\t', '\\n', ' ', '!', '\"', '#', '$', '%', '&', \"'\", '(', ')', '*', '+', ',', '-', '.', '/', '0', '1', '2', '3', '4', '5', '6', '7', '8', '9', ':', ';', '<', '=', '>', '?', '@', '[', '\\\\', ']', '^', '_', '`', 'a', 'b', 'c', 'd', 'e', 'f', 'g', 'h', 'i', 'j', 'k', 'l', 'm', 'n', 'o', 'p', 'q', 'r', 's', 't', 'u', 'v', 'w', 'x', 'y', 'z', '{', '|', '}', '~', '\\x92', '\\x93', '\\x94', '\\x95', '\\x97', '\\x99', '£', '©', '«', '\\xad', '®', '°', '²', '·', '¹', '»', 'è', 'é', 'ó', 'ö', 'а', 'б', 'в', 'д', 'е', 'ж', 'и', 'й', 'к', 'м', 'н', 'о', 'п', 'р', 'с', 'т', 'у', 'ш', 'щ', 'я', 'ё', 'ב', 'ג', 'ד', 'ו', 'י', 'ם', 'ע', 'ר', 'ת', '\\u200f', '‑', '–', '—', '‘', '’', '“', '”', '•', '…', '™', '→', '≡', '≥', '─', '│', '┌', '┐', '└', '┘', '修', '木', '青', '�']\n",
      "['\\t', '\\n', ' ', '!', '\"', '#', '$', '%', '&', \"'\", '(', ')', '*', '+', ',', '-', '.', '/', '0', '1', '2', '3', '4', '5', '6', '7', '8', '9', ':', ';', '<', '=', '>', '?', '@', '[', '\\\\', ']', '^', '_', '`', 'a', 'b', 'c', 'd', 'e', 'f', 'g', 'h', 'i', 'j', 'k', 'l', 'm', 'n', 'o', 'p', 'q', 'r', 's', 't', 'u', 'v', 'w', 'x', 'y', 'z', '{', '|', '}', '~', 'UNK']\n",
      "Total Characters:  5869871\n",
      "Total Unique chars:  72\n"
     ]
    }
   ],
   "source": [
    "raw_text = raw_text.lower()\n",
    "# create mapping of unique chars to integers\n",
    "chars = sorted(list(set(raw_text)))\n",
    "\n",
    "\n",
    "print (chars)\n",
    "chars = chars[:71]\n",
    "chars.append('UNK')\n",
    "char_to_int = dict((c, i) for i, c in enumerate(chars))\n",
    "int_to_char = dict((i, c) for i, c in enumerate(chars))\n",
    "print (chars)\n",
    "# summarize the loaded data\n",
    "n_chars = len(raw_text)\n",
    "n_vocab = len(chars)\n",
    "print(\"Total Characters: \", n_chars)\n",
    "print(\"Total Unique chars: \", n_vocab)\n"
   ]
  },
  {
   "cell_type": "code",
   "execution_count": 9,
   "metadata": {
    "collapsed": false
   },
   "outputs": [],
   "source": [
    "lensLst = []\n",
    "for x in range(0,len(dataX)):\n",
    "    dataX[x] = dataX[x].lower()\n",
    "    dataX[x] = [s if s in char_to_int.keys() else \"UNK\" for s in dataX[x]]\n",
    "    dataX[x] =np.array([char_to_int[w] for w in dataX[x]])\n",
    "    lensLst.append(len(dataX[x]))"
   ]
  },
  {
   "cell_type": "code",
   "execution_count": 10,
   "metadata": {
    "collapsed": false
   },
   "outputs": [
    {
     "name": "stdout",
     "output_type": "stream",
     "text": [
      "988.0\n"
     ]
    },
    {
     "data": {
      "image/png": "[encoded data removed]",
      "text/plain": [
       "<matplotlib.figure.Figure at 0x7f19cb58d4a8>"
      ]
     },
     "metadata": {},
     "output_type": "display_data"
    }
   ],
   "source": [
    "import matplotlib.pyplot as plt\n",
    "from numpy import median\n",
    "print (median(lensLst))\n",
    "plt.axvline(median(lensLst), color='r', linestyle='dashed', linewidth=2)\n",
    "plt.hist(lensLst, bins=range(min(lensLst), max(lensLst) + 50, 50), histtype = 'bar', facecolor = 'blue')\n",
    "plt.axis([0,10000,0,300])\n",
    "plt.show()"
   ]
  },
  {
   "cell_type": "code",
   "execution_count": 11,
   "metadata": {
    "collapsed": true
   },
   "outputs": [],
   "source": [
    "maxLen = 1000\n",
    "dataX = sequence.pad_sequences(dataX, maxlen=maxLen, padding='post', truncating='post', value=n_vocab)"
   ]
  },
  {
   "cell_type": "code",
   "execution_count": 12,
   "metadata": {
    "collapsed": false
   },
   "outputs": [
    {
     "data": {
      "text/plain": [
       "72"
      ]
     },
     "execution_count": 12,
     "metadata": {},
     "output_type": "execute_result"
    }
   ],
   "source": [
    "n_vocab"
   ]
  },
  {
   "cell_type": "code",
   "execution_count": 13,
   "metadata": {
    "collapsed": false,
    "scrolled": true
   },
   "outputs": [
    {
     "name": "stdout",
     "output_type": "stream",
     "text": [
      "[35 59 56 41 53 37  2  2 47 49 62 45  2 48 45 58  2 21  2 48 55 61 58  2 58\n",
      " 55 44 45 55 56 45 58 46 55 58 53 41 54 43 45  3  2 19 18 18  7  2 47 61 41\n",
      " 58 41 54 60 45 45 44  2 60 55  2 59 45 45  2 41 54  2 49 54 43 58 45 41 59\n",
      " 45  2 49 54  2 59 49 66 45  2 41 54 44  2 63 49 44 60 48  2 48 60 60 56 28\n",
      " 17 17 56 47 16 45 64 57 61 53 52 55 41 46 16 43 55 53 17 72 72 72 72 72 72\n",
      " 72 72 72 72 72 72 72 72 72 72 72 72 72 72 72 72 72 72 72 72 72 72 72 72 72\n",
      " 72 72 72 72 72 72 72 72 72 72 72 72 72 72 72 72 72 72 72 72 72 72 72 72 72\n",
      " 72 72 72 72 72 72 72 72 72 72 72 72 72 72 72 72 72 72 72 72 72 72 72 72 72\n",
      " 72 72 72 72 72 72 72 72 72 72 72 72 72 72 72 72 72 72 72 72 72 72 72 72 72\n",
      " 72 72 72 72 72 72 72 72 72 72 72 72 72 72 72 72 72 72 72 72 72 72 72 72 72\n",
      " 72 72 72 72 72 72 72 72 72 72 72 72 72 72 72 72 72 72 72 72 72 72 72 72 72\n",
      " 72 72 72 72 72 72 72 72 72 72 72 72 72 72 72 72 72 72 72 72 72 72 72 72 72\n",
      " 72 72 72 72 72 72 72 72 72 72 72 72 72 72 72 72 72 72 72 72 72 72 72 72 72\n",
      " 72 72 72 72 72 72 72 72 72 72 72 72 72 72 72 72 72 72 72 72 72 72 72 72 72\n",
      " 72 72 72 72 72 72 72 72 72 72 72 72 72 72 72 72 72 72 72 72 72 72 72 72 72\n",
      " 72 72 72 72 72 72 72 72 72 72 72 72 72 72 72 72 72 72 72 72 72 72 72 72 72\n",
      " 72 72 72 72 72 72 72 72 72 72 72 72 72 72 72 72 72 72 72 72 72 72 72 72 72\n",
      " 72 72 72 72 72 72 72 72 72 72 72 72 72 72 72 72 72 72 72 72 72 72 72 72 72\n",
      " 72 72 72 72 72 72 72 72 72 72 72 72 72 72 72 72 72 72 72 72 72 72 72 72 72\n",
      " 72 72 72 72 72 72 72 72 72 72 72 72 72 72 72 72 72 72 72 72 72 72 72 72 72\n",
      " 72 72 72 72 72 72 72 72 72 72 72 72 72 72 72 72 72 72 72 72 72 72 72 72 72\n",
      " 72 72 72 72 72 72 72 72 72 72 72 72 72 72 72 72 72 72 72 72 72 72 72 72 72\n",
      " 72 72 72 72 72 72 72 72 72 72 72 72 72 72 72 72 72 72 72 72 72 72 72 72 72\n",
      " 72 72 72 72 72 72 72 72 72 72 72 72 72 72 72 72 72 72 72 72 72 72 72 72 72\n",
      " 72 72 72 72 72 72 72 72 72 72 72 72 72 72 72 72 72 72 72 72 72 72 72 72 72\n",
      " 72 72 72 72 72 72 72 72 72 72 72 72 72 72 72 72 72 72 72 72 72 72 72 72 72\n",
      " 72 72 72 72 72 72 72 72 72 72 72 72 72 72 72 72 72 72 72 72 72 72 72 72 72\n",
      " 72 72 72 72 72 72 72 72 72 72 72 72 72 72 72 72 72 72 72 72 72 72 72 72 72\n",
      " 72 72 72 72 72 72 72 72 72 72 72 72 72 72 72 72 72 72 72 72 72 72 72 72 72\n",
      " 72 72 72 72 72 72 72 72 72 72 72 72 72 72 72 72 72 72 72 72 72 72 72 72 72\n",
      " 72 72 72 72 72 72 72 72 72 72 72 72 72 72 72 72 72 72 72 72 72 72 72 72 72\n",
      " 72 72 72 72 72 72 72 72 72 72 72 72 72 72 72 72 72 72 72 72 72 72 72 72 72\n",
      " 72 72 72 72 72 72 72 72 72 72 72 72 72 72 72 72 72 72 72 72 72 72 72 72 72\n",
      " 72 72 72 72 72 72 72 72 72 72 72 72 72 72 72 72 72 72 72 72 72 72 72 72 72\n",
      " 72 72 72 72 72 72 72 72 72 72 72 72 72 72 72 72 72 72 72 72 72 72 72 72 72\n",
      " 72 72 72 72 72 72 72 72 72 72 72 72 72 72 72 72 72 72 72 72 72 72 72 72 72\n",
      " 72 72 72 72 72 72 72 72 72 72 72 72 72 72 72 72 72 72 72 72 72 72 72 72 72\n",
      " 72 72 72 72 72 72 72 72 72 72 72 72 72 72 72 72 72 72 72 72 72 72 72 72 72\n",
      " 72 72 72 72 72 72 72 72 72 72 72 72 72 72 72 72 72 72 72 72 72 72 72 72 72\n",
      " 72 72 72 72 72 72 72 72 72 72 72 72 72 72 72 72 72 72 72 72 72 72 72 72 72]\n"
     ]
    }
   ],
   "source": [
    "dataX =  np.reshape(dataX, (-1, maxLen))\n",
    "# normalize\n",
    "#dataX = dataX / float(n_vocab+1)\n",
    "print(dataX[1])"
   ]
  },
  {
   "cell_type": "code",
   "execution_count": 14,
   "metadata": {
    "collapsed": false
   },
   "outputs": [
    {
     "data": {
      "text/plain": [
       "(3429, 1000)"
      ]
     },
     "execution_count": 14,
     "metadata": {},
     "output_type": "execute_result"
    }
   ],
   "source": [
    "dataX.shape"
   ]
  },
  {
   "cell_type": "code",
   "execution_count": 15,
   "metadata": {
    "collapsed": false
   },
   "outputs": [
    {
     "name": "stdout",
     "output_type": "stream",
     "text": [
      "[52 49 54 51  2 60 55  2 53 65  2 63 45 42 43 41 53  2 65 55 61  2 63 41 54\n",
      " 60 45 44  2 56 52 41 65 49 54 47  2 63 49 60 48  2 45 41 43 48  2 55 60 48\n",
      " 45 58 33  2 48 60 60 56 28 17 17 63 63 63 16 59 49 60 45 15 56 45 58 59 55\n",
      " 54 41 52 59 16 43 55 53 72 72 72 72 72 72 72 72 72 72 72 72 72 72 72 72 72\n",
      " 72 72 72 72 72 72 72 72 72 72 72 72 72 72 72 72 72 72 72 72 72 72 72 72 72\n",
      " 72 72 72 72 72 72 72 72 72 72 72 72 72 72 72 72 72 72 72 72 72 72 72 72 72\n",
      " 72 72 72 72 72 72 72 72 72 72 72 72 72 72 72 72 72 72 72 72 72 72 72 72 72\n",
      " 72 72 72 72 72 72 72 72 72 72 72 72 72 72 72 72 72 72 72 72 72 72 72 72 72\n",
      " 72 72 72 72 72 72 72 72 72 72 72 72 72 72 72 72 72 72 72 72 72 72 72 72 72\n",
      " 72 72 72 72 72 72 72 72 72 72 72 72 72 72 72 72 72 72 72 72 72 72 72 72 72\n",
      " 72 72 72 72 72 72 72 72 72 72 72 72 72 72 72 72 72 72 72 72 72 72 72 72 72\n",
      " 72 72 72 72 72 72 72 72 72 72 72 72 72 72 72 72 72 72 72 72 72 72 72 72 72\n",
      " 72 72 72 72 72 72 72 72 72 72 72 72 72 72 72 72 72 72 72 72 72 72 72 72 72\n",
      " 72 72 72 72 72 72 72 72 72 72 72 72 72 72 72 72 72 72 72 72 72 72 72 72 72\n",
      " 72 72 72 72 72 72 72 72 72 72 72 72 72 72 72 72 72 72 72 72 72 72 72 72 72\n",
      " 72 72 72 72 72 72 72 72 72 72 72 72 72 72 72 72 72 72 72 72 72 72 72 72 72\n",
      " 72 72 72 72 72 72 72 72 72 72 72 72 72 72 72 72 72 72 72 72 72 72 72 72 72\n",
      " 72 72 72 72 72 72 72 72 72 72 72 72 72 72 72 72 72 72 72 72 72 72 72 72 72\n",
      " 72 72 72 72 72 72 72 72 72 72 72 72 72 72 72 72 72 72 72 72 72 72 72 72 72\n",
      " 72 72 72 72 72 72 72 72 72 72 72 72 72 72 72 72 72 72 72 72 72 72 72 72 72\n",
      " 72 72 72 72 72 72 72 72 72 72 72 72 72 72 72 72 72 72 72 72 72 72 72 72 72\n",
      " 72 72 72 72 72 72 72 72 72 72 72 72 72 72 72 72 72 72 72 72 72 72 72 72 72\n",
      " 72 72 72 72 72 72 72 72 72 72 72 72 72 72 72 72 72 72 72 72 72 72 72 72 72\n",
      " 72 72 72 72 72 72 72 72 72 72 72 72 72 72 72 72 72 72 72 72 72 72 72 72 72\n",
      " 72 72 72 72 72 72 72 72 72 72 72 72 72 72 72 72 72 72 72 72 72 72 72 72 72\n",
      " 72 72 72 72 72 72 72 72 72 72 72 72 72 72 72 72 72 72 72 72 72 72 72 72 72\n",
      " 72 72 72 72 72 72 72 72 72 72 72 72 72 72 72 72 72 72 72 72 72 72 72 72 72\n",
      " 72 72 72 72 72 72 72 72 72 72 72 72 72 72 72 72 72 72 72 72 72 72 72 72 72\n",
      " 72 72 72 72 72 72 72 72 72 72 72 72 72 72 72 72 72 72 72 72 72 72 72 72 72\n",
      " 72 72 72 72 72 72 72 72 72 72 72 72 72 72 72 72 72 72 72 72 72 72 72 72 72\n",
      " 72 72 72 72 72 72 72 72 72 72 72 72 72 72 72 72 72 72 72 72 72 72 72 72 72\n",
      " 72 72 72 72 72 72 72 72 72 72 72 72 72 72 72 72 72 72 72 72 72 72 72 72 72\n",
      " 72 72 72 72 72 72 72 72 72 72 72 72 72 72 72 72 72 72 72 72 72 72 72 72 72\n",
      " 72 72 72 72 72 72 72 72 72 72 72 72 72 72 72 72 72 72 72 72 72 72 72 72 72\n",
      " 72 72 72 72 72 72 72 72 72 72 72 72 72 72 72 72 72 72 72 72 72 72 72 72 72\n",
      " 72 72 72 72 72 72 72 72 72 72 72 72 72 72 72 72 72 72 72 72 72 72 72 72 72\n",
      " 72 72 72 72 72 72 72 72 72 72 72 72 72 72 72 72 72 72 72 72 72 72 72 72 72\n",
      " 72 72 72 72 72 72 72 72 72 72 72 72 72 72 72 72 72 72 72 72 72 72 72 72 72\n",
      " 72 72 72 72 72 72 72 72 72 72 72 72 72 72 72 72 72 72 72 72 72 72 72 72 72\n",
      " 72 72 72 72 72 72 72 72 72 72 72 72 72 72 72 72 72 72 72 72 72 72 72 72 72]\n"
     ]
    }
   ],
   "source": [
    "print (dataX[0])"
   ]
  },
  {
   "cell_type": "code",
   "execution_count": 16,
   "metadata": {
    "collapsed": false
   },
   "outputs": [],
   "source": [
    "# for x in range(0,5):\n",
    "#     result = dataX[x]\n",
    "#     result =np.array([int_to_char[w] for w in dataX[x]])\n",
    "#     print(''.join(result))\n",
    "#     print(dataY[x])"
   ]
  },
  {
   "cell_type": "code",
   "execution_count": 17,
   "metadata": {
    "collapsed": false
   },
   "outputs": [
    {
     "data": {
      "text/plain": [
       "array([[52, 49, 54, ..., 72, 72, 72],\n",
       "       [35, 59, 56, ..., 72, 72, 72],\n",
       "       [42, 45, 59, ..., 72, 72, 72],\n",
       "       ..., \n",
       "       [35, 59, 56, ..., 72, 72, 72],\n",
       "       [35, 59, 56, ..., 29,  2, 56],\n",
       "       [35, 59, 56, ..., 45, 58, 60]], dtype=int32)"
      ]
     },
     "execution_count": 17,
     "metadata": {},
     "output_type": "execute_result"
    }
   ],
   "source": [
    "dataX"
   ]
  },
  {
   "cell_type": "code",
   "execution_count": 18,
   "metadata": {
    "collapsed": false
   },
   "outputs": [],
   "source": [
    "dataY =keras.utils.to_categorical(dataY, 2)"
   ]
  },
  {
   "cell_type": "code",
   "execution_count": 19,
   "metadata": {
    "collapsed": false
   },
   "outputs": [],
   "source": [
    "dataX,dataY = shuffle(dataX,dataY)"
   ]
  },
  {
   "cell_type": "code",
   "execution_count": 20,
   "metadata": {
    "collapsed": false
   },
   "outputs": [],
   "source": [
    "#making a train / test split\n",
    "emailCount = len(dataX)\n",
    "test_split = int(emailCount*0.9)\n",
    "\n",
    "x_train, y_train = dataX[0:test_split], dataY[0:test_split]\n",
    "x_test, y_test = dataX[test_split:], dataY[test_split:] \n",
    "\n"
   ]
  },
  {
   "cell_type": "code",
   "execution_count": 21,
   "metadata": {
    "collapsed": false
   },
   "outputs": [
    {
     "data": {
      "text/plain": [
       "array([[ 0.,  1.],\n",
       "       [ 1.,  0.],\n",
       "       [ 0.,  1.],\n",
       "       [ 0.,  1.],\n",
       "       [ 1.,  0.],\n",
       "       [ 0.,  1.],\n",
       "       [ 1.,  0.],\n",
       "       [ 0.,  1.],\n",
       "       [ 0.,  1.],\n",
       "       [ 0.,  1.]])"
      ]
     },
     "execution_count": 21,
     "metadata": {},
     "output_type": "execute_result"
    }
   ],
   "source": [
    "y_train[1000:1010]"
   ]
  },
  {
   "cell_type": "code",
   "execution_count": 22,
   "metadata": {
    "collapsed": false
   },
   "outputs": [],
   "source": [
    "sentenceLen = dataX.shape[1]\n",
    "vocabSize = len(char_to_int)\n",
    "embeddingOutputSize = 30\n",
    "filter_sizes = [3,3,3]"
   ]
  },
  {
   "cell_type": "code",
   "execution_count": 23,
   "metadata": {
    "collapsed": false
   },
   "outputs": [],
   "source": [
    "inputs = Input(shape=(sentenceLen,), dtype='int32')\n",
    "embedded = Embedding(output_dim=embeddingOutputSize, \n",
    "                     input_dim=vocabSize, input_length=sentenceLen,\n",
    "                    trainable=True)(inputs)\n",
    "\n",
    "conv_1 = Conv1D(32, filter_sizes[0])(embedded)\n",
    "#conv_1 = BatchNormalization()(conv_1)\n",
    "conv_1 = Activation(activation='relu')(conv_1)\n",
    "conv_1 = MaxPooling1D(pool_size=2)(conv_1)\n",
    "\n",
    "conv_2 = Conv1D(16, filter_sizes[1])(conv_1)\n",
    "#conv_2 = BatchNormalization()(conv_2)\n",
    "conv_2 = Activation(activation='relu')(conv_2)\n",
    "conv_2 = MaxPooling1D(pool_size=2)(conv_2)\n",
    "\n",
    "conv_3 = Conv1D(16, filter_sizes[2])(conv_2)\n",
    "#conv_3 = BatchNormalization()(conv_3)\n",
    "conv_3 = Activation(activation='relu')(conv_3)\n",
    "conv_3 = MaxPooling1D(pool_size=2)(conv_3)\n",
    "\n",
    "flat = Flatten()(conv_3)\n",
    "flat = Dropout(0.25)(flat)\n",
    "fc1 = Dense(64, activation='relu')(flat)\n",
    "#dense_1 = Dropout(0.25)(flat)\n",
    "fc2 = Dense(2, activation='softmax')(fc1)\n",
    "\n",
    "model = Model(inputs, fc2)\n",
    "model.compile(optimizer='adam', loss='categorical_crossentropy', metrics=['acc'])"
   ]
  },
  {
   "cell_type": "code",
   "execution_count": 24,
   "metadata": {
    "collapsed": false
   },
   "outputs": [
    {
     "name": "stdout",
     "output_type": "stream",
     "text": [
      "_________________________________________________________________\n",
      "Layer (type)                 Output Shape              Param #   \n",
      "=================================================================\n",
      "input_1 (InputLayer)         (None, 1000)              0         \n",
      "_________________________________________________________________\n",
      "embedding_1 (Embedding)      (None, 1000, 30)          2160      \n",
      "_________________________________________________________________\n",
      "conv1d_1 (Conv1D)            (None, 998, 32)           2912      \n",
      "_________________________________________________________________\n",
      "activation_1 (Activation)    (None, 998, 32)           0         \n",
      "_________________________________________________________________\n",
      "max_pooling1d_1 (MaxPooling1 (None, 499, 32)           0         \n",
      "_________________________________________________________________\n",
      "conv1d_2 (Conv1D)            (None, 497, 16)           1552      \n",
      "_________________________________________________________________\n",
      "activation_2 (Activation)    (None, 497, 16)           0         \n",
      "_________________________________________________________________\n",
      "max_pooling1d_2 (MaxPooling1 (None, 248, 16)           0         \n",
      "_________________________________________________________________\n",
      "conv1d_3 (Conv1D)            (None, 246, 16)           784       \n",
      "_________________________________________________________________\n",
      "activation_3 (Activation)    (None, 246, 16)           0         \n",
      "_________________________________________________________________\n",
      "max_pooling1d_3 (MaxPooling1 (None, 123, 16)           0         \n",
      "_________________________________________________________________\n",
      "flatten_1 (Flatten)          (None, 1968)              0         \n",
      "_________________________________________________________________\n",
      "dropout_1 (Dropout)          (None, 1968)              0         \n",
      "_________________________________________________________________\n",
      "dense_1 (Dense)              (None, 64)                126016    \n",
      "_________________________________________________________________\n",
      "dense_2 (Dense)              (None, 2)                 130       \n",
      "=================================================================\n",
      "Total params: 133,554\n",
      "Trainable params: 133,554\n",
      "Non-trainable params: 0\n",
      "_________________________________________________________________\n"
     ]
    }
   ],
   "source": [
    "model.summary()"
   ]
  },
  {
   "cell_type": "code",
   "execution_count": 25,
   "metadata": {
    "collapsed": true
   },
   "outputs": [],
   "source": [
    "# model.compile(loss=keras.losses.categorical_crossentropy,\n",
    "#               optimizer=keras.optimizers.Adadelta(),\n",
    "#               metrics=['accuracy'])"
   ]
  },
  {
   "cell_type": "code",
   "execution_count": 26,
   "metadata": {
    "collapsed": false
   },
   "outputs": [
    {
     "name": "stdout",
     "output_type": "stream",
     "text": [
      "\n"
     ]
    }
   ],
   "source": [
    "#history = model.fit(x_train, y_train,batch_size=batch_size,\n",
    "#                    epochs=10,validation_data=(x_test, y_test))\n",
    "\n",
    "\n",
    "# Fit the model on the batches generated by datagen.flow().\n",
    "batch_size = 32\n",
    "hist = model.fit(x_train, y_train,batch_size=batch_size,\n",
    "                    epochs=20,\n",
    "                    validation_data=(x_test, y_test),\n",
    "                    verbose=0,callbacks=[TQDMNotebookCallback(leave_inner=True,leave_outer=True)])\n",
    "\n"
   ]
  },
  {
   "cell_type": "code",
   "execution_count": 27,
   "metadata": {
    "collapsed": true
   },
   "outputs": [],
   "source": [
    "%matplotlib inline\n",
    "import matplotlib.pyplot as plt\n",
    "def plot_train(hist):\n",
    "    h = hist.history\n",
    "    if 'acc' in h:\n",
    "        meas='acc'\n",
    "        loc='lower right'\n",
    "    else:\n",
    "        meas='loss'\n",
    "        loc='upper right'\n",
    "    plt.plot(hist.history[meas])\n",
    "    plt.plot(hist.history['val_'+meas])\n",
    "    plt.title('model '+meas)\n",
    "    plt.ylabel(meas)\n",
    "    plt.xlabel('epoch')\n",
    "    plt.legend(['train', 'validation'], loc=loc)"
   ]
  },
  {
   "cell_type": "code",
   "execution_count": 28,
   "metadata": {
    "collapsed": false
   },
   "outputs": [
    {
     "name": "stdout",
     "output_type": "stream",
     "text": [
      "{'val_loss': [0.3202473882683512, 0.15393017019544328, 0.17637529089482115, 0.095500508068080553, 0.09208404928793365, 0.14016172161689652, 0.082390187199583201, 0.084598015255292022, 0.13087320694857366, 0.09202086935009883, 0.10678063605100177, 0.11655789812478311, 0.092137285843545857, 0.15819266529715792, 0.095049307867273711, 0.18831238895654678, 0.10643386107234083, 0.12370369906683858, 0.11459543819148256, 0.11273935111612896], 'val_acc': [0.82798834097281138, 0.93877551020408168, 0.92419825142396084, 0.96501457725947526, 0.96793002915451898, 0.94460641468926698, 0.9708454810495627, 0.9708454810495627, 0.97376093363970428, 0.97376093294460642, 0.96793002915451898, 0.97376093294460642, 0.97667638483965014, 0.97376093363970428, 0.96793002915451898, 0.97376093294460642, 0.9708454810495627, 0.9708454810495627, 0.97667638483965014, 0.98250728862973757], 'loss': [0.49187894483239947, 0.26367985908659108, 0.15692716527413952, 0.1205643033934727, 0.072155530237950682, 0.059697033908659963, 0.060629648911541573, 0.043529911971109607, 0.02559998530272228, 0.021385017835244033, 0.032459147201461098, 0.019730245621485017, 0.012351793339714402, 0.014912296182179326, 0.010158352530757551, 0.0094960001977830548, 0.017799291769952506, 0.016209867439529728, 0.012924724803401226, 0.017870838374831385], 'acc': [0.73687621547429494, 0.8865845756954136, 0.93292287751134151, 0.95074530136098512, 0.9753726506804925, 0.9792611795204148, 0.97440051847051201, 0.98347375243033053, 0.99157485418016855, 0.99351911860012965, 0.98736228127025272, 0.99449125081011014, 0.9951393391046135, 0.99578742709008428, 0.99578742709008428, 0.99773169151004537, 0.99287103046014258, 0.9941672067401166, 0.99578742709008428, 0.99449125081011014]}\n"
     ]
    },
    {
     "data": {
      "image/png": "[encoded data removed]",
      "text/plain": [
       "<matplotlib.figure.Figure at 0x7f19cb58d9b0>"
      ]
     },
     "metadata": {},
     "output_type": "display_data"
    }
   ],
   "source": [
    "plot_train(hist)\n",
    "print (hist.history)"
   ]
  },
  {
   "cell_type": "code",
   "execution_count": null,
   "metadata": {
    "collapsed": true
   },
   "outputs": [],
   "source": []
  }
 ],
 "metadata": {
  "kernelspec": {
   "display_name": "Python 3",
   "language": "python",
   "name": "python3"
  },
  "language_info": {
   "codemirror_mode": {
    "name": "ipython",
    "version": 3
   },
   "file_extension": ".py",
   "mimetype": "text/x-python",
   "name": "python",
   "nbconvert_exporter": "python",
   "pygments_lexer": "ipython3",
   "version": "3.6.0"
  },
  "widgets": {
   "state": {
    "064c85c4c1384f71ba158112b647dcbe": {
     "views": [
      {
       "cell_index": 25
      }
     ]
    },
    "14c2e93ee2f747079db20884327d9b79": {
     "views": [
      {
       "cell_index": 25
      }
     ]
    },
    "2260d46656174bf28090e92006170364": {
     "views": [
      {
       "cell_index": 25
      }
     ]
    },
    "2d37d4d0f3594c5aaaa6a569bc5f92ba": {
     "views": [
      {
       "cell_index": 25
      }
     ]
    },
    "325b562bf79147e9b797c1c4071a3be8": {
     "views": [
      {
       "cell_index": 25
      }
     ]
    },
    "41fca5c0bc1242a8b7eb9d35458876cd": {
     "views": [
      {
       "cell_index": 25
      }
     ]
    },
    "5cc5a75d569d4ce6a37778ed1f7a61eb": {
     "views": [
      {
       "cell_index": 25
      }
     ]
    },
    "5d3d58ac57494ec1b094b1fb5d598d76": {
     "views": [
      {
       "cell_index": 25
      }
     ]
    },
    "61f202fb8f90444a86d0e67670db929a": {
     "views": [
      {
       "cell_index": 25
      }
     ]
    },
    "6691d8d86ab54b5bb78dce748bfff028": {
     "views": [
      {
       "cell_index": 25
      }
     ]
    },
    "75c4dddde01a4c8a9596ca56706015b2": {
     "views": [
      {
       "cell_index": 25
      }
     ]
    },
    "a25c0717c0b24193b6d164037e7653db": {
     "views": [
      {
       "cell_index": 25
      }
     ]
    },
    "b064e8af2a91483cb3ee7acd9b2f4293": {
     "views": [
      {
       "cell_index": 25
      }
     ]
    },
    "b1eb9521aadd45e89ecc0a128eb315d6": {
     "views": [
      {
       "cell_index": 25
      }
     ]
    },
    "bd60fca20194419ea62b8de34473232b": {
     "views": [
      {
       "cell_index": 25
      }
     ]
    },
    "cddf2d9b2f20419081b1f149185f6b03": {
     "views": [
      {
       "cell_index": 25
      }
     ]
    },
    "e04615e2f9a045468ebdc7f64343fe1e": {
     "views": [
      {
       "cell_index": 25
      }
     ]
    },
    "e08bf3190559447695f57663c4fde5fd": {
     "views": [
      {
       "cell_index": 25
      }
     ]
    },
    "e162e0fd6435478186d9a6bfeadcc485": {
     "views": [
      {
       "cell_index": 25
      }
     ]
    },
    "e7ecd330a9674b599b982643af49fbea": {
     "views": [
      {
       "cell_index": 25
      }
     ]
    },
    "efdb6811853843fbae1207067f7434cb": {
     "views": [
      {
       "cell_index": 25
      }
     ]
    }
   },
   "version": "1.2.0"
  }
 },
 "nbformat": 4,
 "nbformat_minor": 2
}
